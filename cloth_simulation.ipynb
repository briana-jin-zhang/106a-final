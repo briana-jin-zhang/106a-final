{
 "cells": [
  {
   "cell_type": "code",
   "execution_count": 1,
   "id": "australian-voluntary",
   "metadata": {},
   "outputs": [],
   "source": [
    "import numpy as np\n",
    "import robosuite as suite"
   ]
  },
  {
   "cell_type": "code",
   "execution_count": 2,
   "id": "viral-defeat",
   "metadata": {},
   "outputs": [],
   "source": [
    "from robosuite.models import MujocoWorldBase\n",
    "\n",
    "world = MujocoWorldBase()"
   ]
  },
  {
   "cell_type": "code",
   "execution_count": 3,
   "id": "demographic-yield",
   "metadata": {},
   "outputs": [],
   "source": [
    "from robosuite.models.robots import IIWA\n",
    "\n",
    "mujoco_robot = IIWA()"
   ]
  },
  {
   "cell_type": "code",
   "execution_count": 4,
   "id": "controversial-machinery",
   "metadata": {},
   "outputs": [],
   "source": [
    "from robosuite.models.grippers import gripper_factory\n",
    "\n",
    "gripper = gripper_factory('Robotiq140Gripper')\n",
    "mujoco_robot.add_gripper(gripper)"
   ]
  },
  {
   "cell_type": "code",
   "execution_count": 5,
   "id": "subject-auditor",
   "metadata": {},
   "outputs": [],
   "source": [
    "mujoco_robot.set_base_xpos([0, 0, 0.8])\n",
    "world.merge(mujoco_robot)"
   ]
  },
  {
   "cell_type": "code",
   "execution_count": 6,
   "id": "common-privilege",
   "metadata": {},
   "outputs": [],
   "source": [
    "from robosuite.models.arenas import TableArena\n",
    "\n",
    "mujoco_arena = TableArena()\n",
    "mujoco_arena.set_origin([0.8, 0, 0])\n",
    "world.merge(mujoco_arena)"
   ]
  },
  {
   "cell_type": "code",
   "execution_count": 7,
   "id": "great-hostel",
   "metadata": {},
   "outputs": [],
   "source": [
    "from robosuite.models.objects import ClothObject\n",
    "from robosuite.utils.mjcf_utils import new_joint\n",
    "\n",
    "test = ClothObject(name=\"test\")\n",
    "test_obj = test.get_obj()\n",
    "test_obj.set('pos', '1.0 0 2.0')\n",
    "\n",
    "world.worldbody.append(test_obj)\n",
    "# world.merge(test)\n",
    "# from robosuite.models.objects import DoorObject\n",
    "# from robosuite.utils.mjcf_utils import new_joint\n",
    "\n",
    "# test = DoorObject(name=\"test\")\n",
    "# test_obj = test.get_obj()\n",
    "# test_obj.set('pos', '1.0 0 1.0')\n",
    "\n",
    "# world.merge(test)"
   ]
  },
  {
   "cell_type": "code",
   "execution_count": 8,
   "id": "wired-muscle",
   "metadata": {},
   "outputs": [],
   "source": [
    "model = world.get_model(mode=\"mujoco_py\")"
   ]
  },
  {
   "cell_type": "code",
   "execution_count": 9,
   "id": "orange-exhaust",
   "metadata": {},
   "outputs": [
    {
     "name": "stdout",
     "output_type": "stream",
     "text": [
      "Creating window glfw\n"
     ]
    },
    {
     "ename": "SystemExit",
     "evalue": "0",
     "output_type": "error",
     "traceback": [
      "An exception has occurred, use %tb to see the full traceback.\n",
      "\u001b[0;31mSystemExit\u001b[0m\u001b[0;31m:\u001b[0m 0\n"
     ]
    },
    {
     "name": "stderr",
     "output_type": "stream",
     "text": [
      "/home/yiliu77/Desktop/Python/envs/main_env/lib/python3.8/site-packages/IPython/core/interactiveshell.py:3435: UserWarning: To exit: use 'exit', 'quit', or Ctrl-D.\n",
      "  warn(\"To exit: use 'exit', 'quit', or Ctrl-D.\", stacklevel=1)\n"
     ]
    }
   ],
   "source": [
    "from mujoco_py import MjSim, MjViewer\n",
    "\n",
    "sim = MjSim(model)\n",
    "viewer = MjViewer(sim)\n",
    "viewer.vopt.geomgroup[0] = 0 # disable visualization of collision mesh\n",
    "\n",
    "for i in range(10000):\n",
    "  sim.data.ctrl[:] = 0\n",
    "  sim.step()\n",
    "  viewer.render()"
   ]
  },
  {
   "cell_type": "code",
   "execution_count": null,
   "id": "married-allergy",
   "metadata": {},
   "outputs": [],
   "source": []
  },
  {
   "cell_type": "code",
   "execution_count": null,
   "id": "adolescent-quest",
   "metadata": {},
   "outputs": [],
   "source": []
  },
  {
   "cell_type": "code",
   "execution_count": null,
   "id": "solid-street",
   "metadata": {},
   "outputs": [],
   "source": []
  }
 ],
 "metadata": {
  "kernelspec": {
   "display_name": "Python 3",
   "language": "python",
   "name": "python3"
  },
  "language_info": {
   "codemirror_mode": {
    "name": "ipython",
    "version": 3
   },
   "file_extension": ".py",
   "mimetype": "text/x-python",
   "name": "python",
   "nbconvert_exporter": "python",
   "pygments_lexer": "ipython3",
   "version": "3.8.10"
  }
 },
 "nbformat": 4,
 "nbformat_minor": 5
}
