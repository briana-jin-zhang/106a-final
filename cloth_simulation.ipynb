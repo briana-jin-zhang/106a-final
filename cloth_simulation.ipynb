{
 "cells": [
  {
   "cell_type": "code",
   "execution_count": 1,
   "id": "australian-voluntary",
   "metadata": {},
   "outputs": [],
   "source": [
    "# import numpy as np\n",
    "# import robosuite as suite"
   ]
  },
  {
   "cell_type": "code",
   "execution_count": 2,
   "id": "viral-defeat",
   "metadata": {},
   "outputs": [],
   "source": [
    "# from robosuite.models import MujocoWorldBase\n",
    "\n",
    "# world = MujocoWorldBase()"
   ]
  },
  {
   "cell_type": "code",
   "execution_count": 3,
   "id": "demographic-yield",
   "metadata": {},
   "outputs": [],
   "source": [
    "# from robosuite.models.robots import IIWA\n",
    "\n",
    "# mujoco_robot = IIWA()"
   ]
  },
  {
   "cell_type": "code",
   "execution_count": 4,
   "id": "controversial-machinery",
   "metadata": {},
   "outputs": [],
   "source": [
    "# from robosuite.models.grippers import gripper_factory\n",
    "\n",
    "# gripper = gripper_factory('ClothGripper')\n",
    "# mujoco_robot.add_gripper(gripper)"
   ]
  },
  {
   "cell_type": "code",
   "execution_count": 5,
   "id": "subject-auditor",
   "metadata": {},
   "outputs": [],
   "source": [
    "# mujoco_robot.set_base_xpos([1, 0, 0.8])\n",
    "# world.merge(mujoco_robot)"
   ]
  },
  {
   "cell_type": "code",
   "execution_count": 6,
   "id": "common-privilege",
   "metadata": {},
   "outputs": [],
   "source": [
    "# from robosuite.models.arenas import TableArena\n",
    "\n",
    "# mujoco_arena = TableArena()\n",
    "# mujoco_arena.set_origin([0.8, 0, 0])\n",
    "# world.merge(mujoco_arena)"
   ]
  },
  {
   "cell_type": "code",
   "execution_count": 7,
   "id": "great-hostel",
   "metadata": {},
   "outputs": [],
   "source": [
    "# from robosuite.models.objects import ClothObject\n",
    "# from robosuite.utils.mjcf_utils import new_joint\n",
    "\n",
    "# test = ClothObject(name=\"test\")\n",
    "# test_obj = test.get_obj()\n",
    "# test_obj.set('pos', '1.0 0 2.24')\n",
    "# test_obj.set('quat', '0.5 0.5 0.5 0.5')\n",
    "\n",
    "# world.worldbody.append(test_obj)\n",
    "# world.merge(test)\n",
    "# from robosuite.models.objects import DoorObject\n",
    "# from robosuite.utils.mjcf_utils import new_joint\n",
    "\n",
    "# test = DoorObject(name=\"test\")\n",
    "# test_obj = test.get_obj()\n",
    "# test_obj.set('pos', '1.0 0 1.0')\n",
    "\n",
    "# world.merge(test)"
   ]
  },
  {
   "cell_type": "code",
   "execution_count": 8,
   "id": "wired-muscle",
   "metadata": {},
   "outputs": [],
   "source": [
    "# model = world.get_model(mode=\"mujoco_py\")"
   ]
  },
  {
   "cell_type": "code",
   "execution_count": 9,
   "id": "orange-exhaust",
   "metadata": {},
   "outputs": [],
   "source": [
    "# from mujoco_py import MjSim, MjViewer\n",
    "\n",
    "# sim = MjSim(model)\n",
    "# viewer = MjViewer(sim)\n",
    "# # viewer.vopt.geomgroup[0] = 0 # disable visualization of collision mesh\n",
    "\n",
    "# for i in range(10000):\n",
    "#     sim.data.ctrl[:] = [0, 0, 0, 0, 0, 0, 0]\n",
    "#     sim.step()\n",
    "#     viewer.render()"
   ]
  },
  {
   "cell_type": "code",
   "execution_count": 14,
   "id": "conservative-referral",
   "metadata": {},
   "outputs": [],
   "source": [
    "import numpy as np\n",
    "import robosuite as suite\n",
    "from robosuite.environments.manipulation.empty import Empty"
   ]
  },
  {
   "cell_type": "code",
   "execution_count": 15,
   "id": "headed-beijing",
   "metadata": {},
   "outputs": [],
   "source": [
    "suite.environments.base.register_env(Empty)"
   ]
  },
  {
   "cell_type": "code",
   "execution_count": 16,
   "id": "solid-street",
   "metadata": {},
   "outputs": [
    {
     "name": "stdout",
     "output_type": "stream",
     "text": [
      "Creating window glfw\n"
     ]
    }
   ],
   "source": [
    "env = suite.make(\n",
    "    \"Empty\",\n",
    "    robots=\"IIWA\",             # load a Sawyer robot and a Panda robot\n",
    "    gripper_types=\"ClothGripper\",                # use default grippers per robot arm\n",
    "    has_renderer=True,                      # on-screen rendering\n",
    "    render_camera=\"sideview\",              # visualize the \"frontview\" camera\n",
    "    has_offscreen_renderer=False,           # no off-screen rendering\n",
    "    render_collision_mesh=True,\n",
    "    control_freq=20,                        # 20 hz control for applied actions\n",
    "    horizon=200,                            # each episode terminates after 200 steps\n",
    "    use_object_obs=False,                   # no observations needed\n",
    "    use_camera_obs=False,                   # no observations needed\n",
    ")"
   ]
  },
  {
   "cell_type": "code",
   "execution_count": 17,
   "id": "superior-abraham",
   "metadata": {},
   "outputs": [
    {
     "name": "stdout",
     "output_type": "stream",
     "text": [
      "Creating window glfw\n"
     ]
    },
    {
     "ename": "ValueError",
     "evalue": "executing action in terminated episode",
     "output_type": "error",
     "traceback": [
      "\u001b[0;31m---------------------------------------------------------------------------\u001b[0m",
      "\u001b[0;31mValueError\u001b[0m                                Traceback (most recent call last)",
      "\u001b[0;32m<ipython-input-17-82892d646f16>\u001b[0m in \u001b[0;36m<module>\u001b[0;34m\u001b[0m\n\u001b[1;32m      5\u001b[0m     \u001b[0maction\u001b[0m \u001b[0;34m=\u001b[0m \u001b[0;36m8\u001b[0m \u001b[0;34m*\u001b[0m \u001b[0mnp\u001b[0m\u001b[0;34m.\u001b[0m\u001b[0mrandom\u001b[0m\u001b[0;34m.\u001b[0m\u001b[0mrandn\u001b[0m\u001b[0;34m(\u001b[0m\u001b[0menv\u001b[0m\u001b[0;34m.\u001b[0m\u001b[0mrobots\u001b[0m\u001b[0;34m[\u001b[0m\u001b[0;36m0\u001b[0m\u001b[0;34m]\u001b[0m\u001b[0;34m.\u001b[0m\u001b[0mdof\u001b[0m\u001b[0;34m)\u001b[0m \u001b[0;31m# sample random action\u001b[0m\u001b[0;34m\u001b[0m\u001b[0;34m\u001b[0m\u001b[0m\n\u001b[1;32m      6\u001b[0m     \u001b[0mtime\u001b[0m\u001b[0;34m.\u001b[0m\u001b[0msleep\u001b[0m\u001b[0;34m(\u001b[0m\u001b[0;36m.02\u001b[0m\u001b[0;34m)\u001b[0m\u001b[0;34m\u001b[0m\u001b[0;34m\u001b[0m\u001b[0m\n\u001b[0;32m----> 7\u001b[0;31m     \u001b[0mobs\u001b[0m\u001b[0;34m,\u001b[0m \u001b[0mreward\u001b[0m\u001b[0;34m,\u001b[0m \u001b[0mdone\u001b[0m\u001b[0;34m,\u001b[0m \u001b[0minfo\u001b[0m \u001b[0;34m=\u001b[0m \u001b[0menv\u001b[0m\u001b[0;34m.\u001b[0m\u001b[0mstep\u001b[0m\u001b[0;34m(\u001b[0m\u001b[0maction\u001b[0m\u001b[0;34m)\u001b[0m  \u001b[0;31m# take action in the environment\u001b[0m\u001b[0;34m\u001b[0m\u001b[0;34m\u001b[0m\u001b[0m\n\u001b[0m\u001b[1;32m      8\u001b[0m     \u001b[0menv\u001b[0m\u001b[0;34m.\u001b[0m\u001b[0mrender\u001b[0m\u001b[0;34m(\u001b[0m\u001b[0;34m)\u001b[0m\u001b[0;34m\u001b[0m\u001b[0;34m\u001b[0m\u001b[0m\n",
      "\u001b[0;32m~/Desktop/Class/Semester7/EECS106A/project/robosuite/robosuite/environments/base.py\u001b[0m in \u001b[0;36mstep\u001b[0;34m(self, action)\u001b[0m\n\u001b[1;32m    388\u001b[0m         \"\"\"\n\u001b[1;32m    389\u001b[0m         \u001b[0;32mif\u001b[0m \u001b[0mself\u001b[0m\u001b[0;34m.\u001b[0m\u001b[0mdone\u001b[0m\u001b[0;34m:\u001b[0m\u001b[0;34m\u001b[0m\u001b[0;34m\u001b[0m\u001b[0m\n\u001b[0;32m--> 390\u001b[0;31m             \u001b[0;32mraise\u001b[0m \u001b[0mValueError\u001b[0m\u001b[0;34m(\u001b[0m\u001b[0;34m\"executing action in terminated episode\"\u001b[0m\u001b[0;34m)\u001b[0m\u001b[0;34m\u001b[0m\u001b[0;34m\u001b[0m\u001b[0m\n\u001b[0m\u001b[1;32m    391\u001b[0m \u001b[0;34m\u001b[0m\u001b[0m\n\u001b[1;32m    392\u001b[0m         \u001b[0mself\u001b[0m\u001b[0;34m.\u001b[0m\u001b[0mtimestep\u001b[0m \u001b[0;34m+=\u001b[0m \u001b[0;36m1\u001b[0m\u001b[0;34m\u001b[0m\u001b[0;34m\u001b[0m\u001b[0m\n",
      "\u001b[0;31mValueError\u001b[0m: executing action in terminated episode"
     ]
    }
   ],
   "source": [
    "env.reset()\n",
    "import time\n",
    "\n",
    "for i in range(6000):\n",
    "    action = 8 * np.random.randn(env.robots[0].dof) # sample random action\n",
    "    time.sleep(.02)\n",
    "    obs, reward, done, info = env.step(action)  # take action in the environment\n",
    "    env.render()"
   ]
  },
  {
   "cell_type": "code",
   "execution_count": null,
   "id": "scheduled-brazil",
   "metadata": {},
   "outputs": [],
   "source": []
  },
  {
   "cell_type": "code",
   "execution_count": null,
   "id": "looking-appearance",
   "metadata": {},
   "outputs": [],
   "source": []
  }
 ],
 "metadata": {
  "kernelspec": {
   "display_name": "Python 3",
   "language": "python",
   "name": "python3"
  },
  "language_info": {
   "codemirror_mode": {
    "name": "ipython",
    "version": 3
   },
   "file_extension": ".py",
   "mimetype": "text/x-python",
   "name": "python",
   "nbconvert_exporter": "python",
   "pygments_lexer": "ipython3",
   "version": "3.8.10"
  }
 },
 "nbformat": 4,
 "nbformat_minor": 5
}
