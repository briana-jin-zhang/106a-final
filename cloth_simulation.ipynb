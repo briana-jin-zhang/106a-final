{
 "cells": [
  {
   "cell_type": "code",
   "execution_count": 1,
   "id": "conservative-referral",
   "metadata": {},
   "outputs": [],
   "source": [
    "import numpy as np\n",
    "import robosuite as suite\n",
    "from robosuite.environments.manipulation.empty import Empty\n",
    "from scipy import interpolate\n",
    "from robosuite.utils.mjmod import DynamicsModder"
   ]
  },
  {
   "cell_type": "code",
   "execution_count": 2,
   "id": "rolled-appraisal",
   "metadata": {},
   "outputs": [],
   "source": [
    "horizon = 200"
   ]
  },
  {
   "cell_type": "code",
   "execution_count": 3,
   "id": "decent-forge",
   "metadata": {},
   "outputs": [],
   "source": [
    "def plan(start_pose, middle_pose, end_pose, horizon):\n",
    "    cs = interpolate.CubicSpline([0, horizon // 2, horizon], [start_pose, middle_pose, end_pose], \n",
    "                                       axis=0, bc_type='clamped')\n",
    "    return cs(range(horizon))  \n",
    "def difference(traj):\n",
    "    traj = np.array(traj)\n",
    "    new_traj = [traj[0]]\n",
    "    for i in range(len(traj)):\n",
    "        if i == 0:\n",
    "            continue\n",
    "        new_traj.append(traj[i] - traj[i - 1])\n",
    "    return new_traj"
   ]
  },
  {
   "cell_type": "code",
   "execution_count": 4,
   "id": "headed-beijing",
   "metadata": {},
   "outputs": [],
   "source": [
    "suite.environments.base.register_env(Empty)"
   ]
  },
  {
   "cell_type": "code",
   "execution_count": 5,
   "id": "automatic-kernel",
   "metadata": {},
   "outputs": [
    {
     "name": "stdout",
     "output_type": "stream",
     "text": [
      "{'type': 'JOINT_POSITION', 'input_max': 1, 'input_min': -1, 'output_max': 0.05, 'output_min': -0.05, 'kp': 50, 'damping_ratio': 0.1, 'impedance_mode': 'fixed', 'kp_limits': [0, 300], 'damping_ratio_limits': [0, 10], 'qpos_limits': None, 'interpolation': None, 'ramp_ratio': 0.1}\n"
     ]
    }
   ],
   "source": [
    "controller_config = suite.load_controller_config(default_controller=\"JOINT_POSITION\")\n",
    "controller_config[\"damping_ratio\"] = 0.1\n",
    "controller_config[\"ramp_ratio\"] = 0.1\n",
    "print(controller_config)"
   ]
  },
  {
   "cell_type": "code",
   "execution_count": 6,
   "id": "solid-street",
   "metadata": {},
   "outputs": [
    {
     "name": "stdout",
     "output_type": "stream",
     "text": [
      "Creating window glfw\n"
     ]
    }
   ],
   "source": [
    "env = suite.make(\n",
    "    \"Empty\",\n",
    "    robots=\"IIWA\",             # load a Sawyer robot and a Panda robot\n",
    "    gripper_types=\"ClothGripper\",                # use default grippers per robot arm\n",
    "    controller_configs=controller_config, \n",
    "    has_renderer=True,                      # on-screen rendering\n",
    "    render_camera=\"sideview\",              # visualize the \"frontview\" camera\n",
    "    has_offscreen_renderer=False,           # no off-screen rendering\n",
    "    render_collision_mesh=True,\n",
    "    control_freq=20,                        # 20 hz control for applied actions\n",
    "    horizon=horizon,                            # each episode terminates after 200 steps\n",
    "    use_object_obs=False,                   # no observations needed\n",
    "    use_camera_obs=False,                   # no observations needed\n",
    ")"
   ]
  },
  {
   "cell_type": "code",
   "execution_count": 7,
   "id": "superior-abraham",
   "metadata": {},
   "outputs": [
    {
     "name": "stderr",
     "output_type": "stream",
     "text": [
      "\r",
      "  0%|          | 0/10 [00:00<?, ?it/s]"
     ]
    },
    {
     "name": "stdout",
     "output_type": "stream",
     "text": [
      "Creating window glfw\n"
     ]
    },
    {
     "name": "stderr",
     "output_type": "stream",
     "text": [
      "\r",
      " 10%|█         | 1/10 [00:02<00:24,  2.70s/it]"
     ]
    },
    {
     "name": "stdout",
     "output_type": "stream",
     "text": [
      "Creating window glfw\n"
     ]
    },
    {
     "name": "stderr",
     "output_type": "stream",
     "text": [
      "\r",
      " 20%|██        | 2/10 [00:05<00:22,  2.84s/it]"
     ]
    },
    {
     "name": "stdout",
     "output_type": "stream",
     "text": [
      "Creating window glfw\n"
     ]
    },
    {
     "name": "stderr",
     "output_type": "stream",
     "text": [
      "\r",
      " 30%|███       | 3/10 [00:08<00:20,  2.90s/it]"
     ]
    },
    {
     "name": "stdout",
     "output_type": "stream",
     "text": [
      "Creating window glfw\n"
     ]
    },
    {
     "name": "stderr",
     "output_type": "stream",
     "text": [
      "\r",
      " 40%|████      | 4/10 [00:11<00:17,  2.89s/it]"
     ]
    },
    {
     "name": "stdout",
     "output_type": "stream",
     "text": [
      "Creating window glfw\n"
     ]
    },
    {
     "name": "stderr",
     "output_type": "stream",
     "text": [
      "\r",
      " 50%|█████     | 5/10 [00:14<00:14,  2.90s/it]"
     ]
    },
    {
     "name": "stdout",
     "output_type": "stream",
     "text": [
      "Creating window glfw\n"
     ]
    },
    {
     "name": "stderr",
     "output_type": "stream",
     "text": [
      "\r",
      " 60%|██████    | 6/10 [00:17<00:12,  3.00s/it]"
     ]
    },
    {
     "name": "stdout",
     "output_type": "stream",
     "text": [
      "Creating window glfw\n"
     ]
    },
    {
     "name": "stderr",
     "output_type": "stream",
     "text": [
      "\r",
      " 70%|███████   | 7/10 [00:21<00:09,  3.09s/it]"
     ]
    },
    {
     "name": "stdout",
     "output_type": "stream",
     "text": [
      "Creating window glfw\n"
     ]
    },
    {
     "name": "stderr",
     "output_type": "stream",
     "text": [
      "\r",
      " 80%|████████  | 8/10 [00:24<00:06,  3.21s/it]"
     ]
    },
    {
     "name": "stdout",
     "output_type": "stream",
     "text": [
      "Creating window glfw\n"
     ]
    },
    {
     "name": "stderr",
     "output_type": "stream",
     "text": [
      "\r",
      " 90%|█████████ | 9/10 [00:27<00:03,  3.14s/it]"
     ]
    },
    {
     "name": "stdout",
     "output_type": "stream",
     "text": [
      "Creating window glfw\n"
     ]
    },
    {
     "name": "stderr",
     "output_type": "stream",
     "text": [
      "100%|██████████| 10/10 [00:30<00:00,  3.06s/it]\n"
     ]
    }
   ],
   "source": [
    "import tqdm\n",
    "import random\n",
    "\n",
    "num_dataset_size = 10\n",
    "num_cloth_joints = 11\n",
    "\n",
    "all_geom_positions = []\n",
    "all_parameters = []\n",
    "for _ in tqdm.tqdm(range(num_dataset_size)):\n",
    "    done = False\n",
    "    obs = env.reset()\n",
    "    \n",
    "    modder = DynamicsModder(sim=env.sim)\n",
    "    damping = random.random() * 20\n",
    "    stiffness = random.random() * 20\n",
    "    all_parameters.append([damping, stiffness])\n",
    "    \n",
    "    for i in range(num_cloth_joints):\n",
    "        modder.mod(\"gripper0_joint\" + str(i), \"damping\", damping)\n",
    "        modder.mod(\"gripper0_joint\" + str(i), \"stiffness\", stiffness)\n",
    "    \n",
    "    geom_positions = []\n",
    "    traj = difference(plan([0, 0, 0, 0, 0, 0, 0], [0, -10, 0, 10, 0, -10, 0], [0, 0, 0, 0, 0, 0, 0], horizon))\n",
    "    while not done:\n",
    "        action = traj[i]\n",
    "        for j in range(num_cloth_joints):\n",
    "            pos = env.sim.data.geom_xpos[env.sim.model.geom_name2id(\"gripper0_g{}_col\".format(j))]\n",
    "            geom_positions.append(pos[0])\n",
    "            geom_positions.append(pos[2])\n",
    "        obs, reward, done, info = env.step(action) \n",
    "#         env.render()\n",
    "    all_geom_positions.append(geom_positions)\n",
    "    \n",
    "all_geom_positions = np.array(all_geom_positions)\n",
    "all_parameters = np.array(all_parameters)"
   ]
  },
  {
   "cell_type": "code",
   "execution_count": 8,
   "id": "scheduled-brazil",
   "metadata": {},
   "outputs": [],
   "source": [
    "# Have some prior distribution of magazine parameters\n",
    "# Model predicts parameters distribution from actions and movement\n",
    "# Each cycle\n",
    "# Sample parameters and choose actions to minimize entropy of predictions"
   ]
  },
  {
   "cell_type": "code",
   "execution_count": 9,
   "id": "educational-cleaning",
   "metadata": {},
   "outputs": [],
   "source": [
    "# Use DIAYN for trajectories"
   ]
  },
  {
   "cell_type": "code",
   "execution_count": 10,
   "id": "understanding-concert",
   "metadata": {},
   "outputs": [
    {
     "data": {
      "text/plain": [
       "((10, 4400), (10, 2))"
      ]
     },
     "execution_count": 10,
     "metadata": {},
     "output_type": "execute_result"
    }
   ],
   "source": [
    "all_geom_positions.shape, all_parameters.shape"
   ]
  },
  {
   "cell_type": "code",
   "execution_count": 11,
   "id": "toxic-republican",
   "metadata": {},
   "outputs": [],
   "source": [
    "with open(\"all_geom_positions.npy\", 'wb') as f:\n",
    "    np.save(f, all_geom_positions)\n",
    "with open(\"all_parameters.npy\", 'wb') as f:\n",
    "    np.save(f, all_parameters)"
   ]
  },
  {
   "cell_type": "code",
   "execution_count": 23,
   "id": "affecting-adjustment",
   "metadata": {},
   "outputs": [],
   "source": [
    "import torch\n",
    "import numpy as np\n",
    "from torch.utils.data import TensorDataset, DataLoader\n",
    "\n",
    "train_split = 0.8\n",
    "train_length = int(train_split * len(all_geom_positions))\n",
    "val_length = len(all_geom_positions) - train_length\n",
    "all_dataset = torch.utils.data.TensorDataset(torch.from_numpy(all_geom_positions), torch.from_numpy(all_parameters))\n",
    "train_dataset, val_dataset = torch.utils.data.random_split(all_dataset, [train_length, val_length])\n",
    "\n",
    "train_loader = DataLoader(train_dataset, batch_size=32, shuffle=True, pin_memory=True)\n",
    "val_loader = DataLoader(val_dataset, batch_size=32, pin_memory=True)"
   ]
  },
  {
   "cell_type": "code",
   "execution_count": 28,
   "id": "descending-notification",
   "metadata": {},
   "outputs": [],
   "source": [
    "model = torch.nn.Sequential(\n",
    "    torch.nn.Linear(4400, 2048),\n",
    "    torch.nn.ReLU(),\n",
    "    torch.nn.Dropout(0.1),\n",
    "    torch.nn.Linear(2048, 1024),\n",
    "    torch.nn.ReLU(),\n",
    "    torch.nn.Dropout(0.1),\n",
    "    torch.nn.Linear(1024, 1024),\n",
    "    torch.nn.ReLU(),\n",
    "    torch.nn.Linear(1024, 2 * 2),\n",
    ").to(\"cuda\")\n",
    "optimizer = torch.optim.Adam(model.parameters(), lr=0.0001)"
   ]
  },
  {
   "cell_type": "code",
   "execution_count": 30,
   "id": "functioning-family",
   "metadata": {},
   "outputs": [
    {
     "name": "stdout",
     "output_type": "stream",
     "text": [
      "Epoch: 0, Train Loss: 51.0892333984375, Val Loss: 36.040279388427734\n",
      "Epoch: 1, Train Loss: 40.13995361328125, Val Loss: 26.40574073791504\n",
      "Epoch: 2, Train Loss: 30.54589080810547, Val Loss: 18.04074478149414\n",
      "Epoch: 3, Train Loss: 20.626604080200195, Val Loss: 11.60287857055664\n",
      "Epoch: 4, Train Loss: 13.423412322998047, Val Loss: 7.234892845153809\n",
      "Epoch: 5, Train Loss: 8.205706596374512, Val Loss: 4.618354797363281\n",
      "Epoch: 6, Train Loss: 5.3087263107299805, Val Loss: 3.3003220558166504\n",
      "Epoch: 7, Train Loss: 3.5358190536499023, Val Loss: 2.803720474243164\n",
      "Epoch: 8, Train Loss: 2.9595046043395996, Val Loss: 2.7505319118499756\n",
      "Epoch: 9, Train Loss: 2.833864450454712, Val Loss: 2.9104185104370117\n",
      "Epoch: 10, Train Loss: 2.95281720161438, Val Loss: 3.159301280975342\n",
      "Epoch: 11, Train Loss: 3.220903158187866, Val Loss: 3.432943105697632\n",
      "Epoch: 12, Train Loss: 3.4770543575286865, Val Loss: 3.7004036903381348\n",
      "Epoch: 13, Train Loss: 3.681475877761841, Val Loss: 3.9469563961029053\n",
      "Epoch: 14, Train Loss: 3.9833080768585205, Val Loss: 4.1646246910095215\n",
      "Epoch: 15, Train Loss: 4.191916465759277, Val Loss: 4.349757671356201\n",
      "Epoch: 16, Train Loss: 4.461333751678467, Val Loss: 4.500476837158203\n",
      "Epoch: 17, Train Loss: 4.521982192993164, Val Loss: 4.617963790893555\n",
      "Epoch: 18, Train Loss: 4.713223457336426, Val Loss: 4.701976299285889\n",
      "Epoch: 19, Train Loss: 4.730235576629639, Val Loss: 4.755536079406738\n",
      "Epoch: 20, Train Loss: 4.80134391784668, Val Loss: 4.780273914337158\n",
      "Epoch: 21, Train Loss: 4.891545295715332, Val Loss: 4.777632236480713\n",
      "Epoch: 22, Train Loss: 4.815584182739258, Val Loss: 4.74949836730957\n",
      "Epoch: 23, Train Loss: 4.718947410583496, Val Loss: 4.69804573059082\n",
      "Epoch: 24, Train Loss: 4.755616664886475, Val Loss: 4.625400066375732\n",
      "Epoch: 25, Train Loss: 4.66355037689209, Val Loss: 4.535297393798828\n",
      "Epoch: 26, Train Loss: 4.541387557983398, Val Loss: 4.430484771728516\n",
      "Epoch: 27, Train Loss: 4.4710235595703125, Val Loss: 4.313331127166748\n",
      "Epoch: 28, Train Loss: 4.369565010070801, Val Loss: 4.185672283172607\n",
      "Epoch: 29, Train Loss: 4.242579936981201, Val Loss: 4.048169136047363\n",
      "Epoch: 30, Train Loss: 4.086569786071777, Val Loss: 3.903223752975464\n",
      "Epoch: 31, Train Loss: 3.993349552154541, Val Loss: 3.752458333969116\n",
      "Epoch: 32, Train Loss: 3.823176383972168, Val Loss: 3.598349094390869\n",
      "Epoch: 33, Train Loss: 3.6620211601257324, Val Loss: 3.443096160888672\n",
      "Epoch: 34, Train Loss: 3.4660587310791016, Val Loss: 3.2886857986450195\n",
      "Epoch: 35, Train Loss: 3.3728904724121094, Val Loss: 3.138692855834961\n",
      "Epoch: 36, Train Loss: 3.189443588256836, Val Loss: 2.9954683780670166\n",
      "Epoch: 37, Train Loss: 3.0344979763031006, Val Loss: 2.8651280403137207\n",
      "Epoch: 38, Train Loss: 2.8739264011383057, Val Loss: 2.7560853958129883\n",
      "Epoch: 39, Train Loss: 2.8330183029174805, Val Loss: 2.6749770641326904\n",
      "Epoch: 40, Train Loss: 2.7422127723693848, Val Loss: 2.6301567554473877\n",
      "Epoch: 41, Train Loss: 2.6610941886901855, Val Loss: 2.629920244216919\n",
      "Epoch: 42, Train Loss: 2.7410287857055664, Val Loss: 2.670250654220581\n",
      "Epoch: 43, Train Loss: 2.7554166316986084, Val Loss: 2.7347841262817383\n",
      "Epoch: 44, Train Loss: 2.794814348220825, Val Loss: 2.785461902618408\n",
      "Epoch: 45, Train Loss: 2.884645938873291, Val Loss: 2.7954087257385254\n",
      "Epoch: 46, Train Loss: 2.8365001678466797, Val Loss: 2.7630796432495117\n",
      "Epoch: 47, Train Loss: 2.7588305473327637, Val Loss: 2.7090320587158203\n",
      "Epoch: 48, Train Loss: 2.6646227836608887, Val Loss: 2.659237861633301\n",
      "Epoch: 49, Train Loss: 2.7758336067199707, Val Loss: 2.6139440536499023\n",
      "Epoch: 50, Train Loss: 2.6292738914489746, Val Loss: 2.577796459197998\n",
      "Epoch: 51, Train Loss: 2.697438955307007, Val Loss: 2.555807590484619\n",
      "Epoch: 52, Train Loss: 2.6449782848358154, Val Loss: 2.544888496398926\n",
      "Epoch: 53, Train Loss: 2.5719871520996094, Val Loss: 2.5408878326416016\n",
      "Epoch: 54, Train Loss: 2.5689663887023926, Val Loss: 2.5406339168548584\n",
      "Epoch: 55, Train Loss: 2.6176557540893555, Val Loss: 2.541700839996338\n",
      "Epoch: 56, Train Loss: 2.5814015865325928, Val Loss: 2.543898344039917\n",
      "Epoch: 57, Train Loss: 2.5653934478759766, Val Loss: 2.5450491905212402\n",
      "Epoch: 58, Train Loss: 2.577867031097412, Val Loss: 2.5440478324890137\n",
      "Epoch: 59, Train Loss: 2.5939126014709473, Val Loss: 2.541630744934082\n",
      "Epoch: 60, Train Loss: 2.5844221115112305, Val Loss: 2.5365958213806152\n",
      "Epoch: 61, Train Loss: 2.5596909523010254, Val Loss: 2.5289483070373535\n",
      "Epoch: 62, Train Loss: 2.5550379753112793, Val Loss: 2.5187010765075684\n",
      "Epoch: 63, Train Loss: 2.5185914039611816, Val Loss: 2.506040096282959\n",
      "Epoch: 64, Train Loss: 2.5267927646636963, Val Loss: 2.4919850826263428\n",
      "Epoch: 65, Train Loss: 2.5082972049713135, Val Loss: 2.4787464141845703\n",
      "Epoch: 66, Train Loss: 2.491428852081299, Val Loss: 2.4667022228240967\n",
      "Epoch: 67, Train Loss: 2.4563815593719482, Val Loss: 2.4578356742858887\n",
      "Epoch: 68, Train Loss: 2.4442684650421143, Val Loss: 2.451185464859009\n",
      "Epoch: 69, Train Loss: 2.4345459938049316, Val Loss: 2.4475467205047607\n",
      "Epoch: 70, Train Loss: 2.418849468231201, Val Loss: 2.448235034942627\n",
      "Epoch: 71, Train Loss: 2.384474515914917, Val Loss: 2.4516618251800537\n",
      "Epoch: 72, Train Loss: 2.3785996437072754, Val Loss: 2.457510471343994\n",
      "Epoch: 73, Train Loss: 2.391852855682373, Val Loss: 2.465484380722046\n",
      "Epoch: 74, Train Loss: 2.3680436611175537, Val Loss: 2.4750146865844727\n",
      "Epoch: 75, Train Loss: 2.393707275390625, Val Loss: 2.4815258979797363\n",
      "Epoch: 76, Train Loss: 2.3446531295776367, Val Loss: 2.4885454177856445\n",
      "Epoch: 77, Train Loss: 2.392788887023926, Val Loss: 2.4925742149353027\n",
      "Epoch: 78, Train Loss: 2.377042770385742, Val Loss: 2.496009349822998\n",
      "Epoch: 79, Train Loss: 2.3180041313171387, Val Loss: 2.4990062713623047\n",
      "Epoch: 80, Train Loss: 2.3103246688842773, Val Loss: 2.4996397495269775\n",
      "Epoch: 81, Train Loss: 2.2828311920166016, Val Loss: 2.502387523651123\n",
      "Epoch: 82, Train Loss: 2.3076705932617188, Val Loss: 2.5043857097625732\n",
      "Epoch: 83, Train Loss: 2.314392566680908, Val Loss: 2.505950450897217\n",
      "Epoch: 84, Train Loss: 2.2920660972595215, Val Loss: 2.508270740509033\n",
      "Epoch: 85, Train Loss: 2.3117144107818604, Val Loss: 2.508841037750244\n",
      "Epoch: 86, Train Loss: 2.3095474243164062, Val Loss: 2.510331153869629\n",
      "Epoch: 87, Train Loss: 2.2739334106445312, Val Loss: 2.5119218826293945\n",
      "Epoch: 88, Train Loss: 2.2895162105560303, Val Loss: 2.513808250427246\n",
      "Epoch: 89, Train Loss: 2.3050217628479004, Val Loss: 2.5167880058288574\n",
      "Epoch: 90, Train Loss: 2.2837181091308594, Val Loss: 2.5225725173950195\n",
      "Epoch: 91, Train Loss: 2.31201434135437, Val Loss: 2.529067039489746\n",
      "Epoch: 92, Train Loss: 2.2916550636291504, Val Loss: 2.536405563354492\n",
      "Epoch: 93, Train Loss: 2.2905588150024414, Val Loss: 2.5428338050842285\n",
      "Epoch: 94, Train Loss: 2.2964487075805664, Val Loss: 2.5508928298950195\n",
      "Epoch: 95, Train Loss: 2.2824268341064453, Val Loss: 2.5601561069488525\n",
      "Epoch: 96, Train Loss: 2.2858290672302246, Val Loss: 2.568145513534546\n",
      "Epoch: 97, Train Loss: 2.2794346809387207, Val Loss: 2.579986095428467\n",
      "Epoch: 98, Train Loss: 2.271606206893921, Val Loss: 2.587047576904297\n",
      "Epoch: 99, Train Loss: 2.3009862899780273, Val Loss: 2.5883378982543945\n"
     ]
    }
   ],
   "source": [
    "loss_fn = torch.nn.GaussianNLLLoss()\n",
    "for epoch in range(100):\n",
    "    model.train()\n",
    "    train_losses = []\n",
    "    for position, target_params in train_loader:\n",
    "        position = position.to(\"cuda\").float()\n",
    "        target_params = target_params.to(\"cuda\").float()\n",
    "        \n",
    "        pred_params_mu, pred_params_logvar = torch.split(model(position), 2, dim=1)\n",
    "        loss = loss_fn(pred_params_mu, target_params, torch.exp(pred_params_logvar))\n",
    "        \n",
    "        train_losses.append(loss.item())\n",
    "        \n",
    "        optimizer.zero_grad()\n",
    "        loss.backward()\n",
    "        optimizer.step()\n",
    "    \n",
    "    model.eval()\n",
    "    with torch.no_grad():\n",
    "        val_losses = []\n",
    "        for position, target_params in val_loader:\n",
    "            position = position.to(\"cuda\").float()\n",
    "            target_params = target_params.to(\"cuda\").float()\n",
    "\n",
    "            pred_params_mu, pred_params_logvar = torch.split(model(position), 2, dim=1)\n",
    "            loss = loss_fn(pred_params_mu, target_params, torch.exp(pred_params_logvar))\n",
    "\n",
    "            val_losses.append(loss.item())\n",
    "        \n",
    "    print(\"Epoch: {}, Train Loss: {}, Val Loss: {}\".format(epoch, np.mean(train_losses), np.mean(val_losses)))"
   ]
  },
  {
   "cell_type": "code",
   "execution_count": 32,
   "id": "noted-cleaner",
   "metadata": {},
   "outputs": [],
   "source": [
    "predictions = []\n",
    "ground_truth = []\n",
    "for i, (position, target_params) in enumerate(val_loader):\n",
    "    prediction, _ = torch.split(model(position.to(\"cuda\").float()), 2, dim=1)\n",
    "    predictions.append(prediction.detach().cpu().numpy())\n",
    "    ground_truth.append(target_params.cpu().numpy())\n",
    "predictions = np.concatenate(predictions, axis=0)\n",
    "ground_truth = np.concatenate(ground_truth, axis=0)"
   ]
  },
  {
   "cell_type": "code",
   "execution_count": 34,
   "id": "strong-houston",
   "metadata": {},
   "outputs": [
    {
     "data": {
      "image/png": "[encoded data removed]",
      "text/plain": [
       "<Figure size 432x288 with 1 Axes>"
      ]
     },
     "metadata": {
      "needs_background": "light"
     },
     "output_type": "display_data"
    }
   ],
   "source": [
    "from matplotlib import pyplot as plt\n",
    "plt.scatter(ground_truth[:, 0], predictions[:, 0])\n",
    "plt.show()"
   ]
  },
  {
   "cell_type": "code",
   "execution_count": 35,
   "id": "selected-rapid",
   "metadata": {},
   "outputs": [
    {
     "data": {
      "image/png": "[encoded data removed]",
      "text/plain": [
       "<Figure size 432x288 with 1 Axes>"
      ]
     },
     "metadata": {
      "needs_background": "light"
     },
     "output_type": "display_data"
    }
   ],
   "source": [
    "from matplotlib import pyplot as plt\n",
    "plt.scatter(ground_truth[:, 1], predictions[:, 1])\n",
    "plt.show()"
   ]
  },
  {
   "cell_type": "code",
   "execution_count": null,
   "id": "labeled-adjustment",
   "metadata": {},
   "outputs": [],
   "source": []
  }
 ],
 "metadata": {
  "kernelspec": {
   "display_name": "Python 3",
   "language": "python",
   "name": "python3"
  },
  "language_info": {
   "codemirror_mode": {
    "name": "ipython",
    "version": 3
   },
   "file_extension": ".py",
   "mimetype": "text/x-python",
   "name": "python",
   "nbconvert_exporter": "python",
   "pygments_lexer": "ipython3",
   "version": "3.8.10"
  }
 },
 "nbformat": 4,
 "nbformat_minor": 5
}
