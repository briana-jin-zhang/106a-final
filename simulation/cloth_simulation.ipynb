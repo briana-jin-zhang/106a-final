{
 "cells": [
  {
   "cell_type": "code",
   "execution_count": 1,
   "id": "conservative-referral",
   "metadata": {},
   "outputs": [],
   "source": [
    "import numpy as np\n",
    "import sys\n",
    "import torch\n",
    "import random\n",
    "import robosuite as suite\n",
    "from robosuite.environments.manipulation.empty import Empty\n",
    "from scipy import interpolate\n",
    "from robosuite.utils.mjmod import DynamicsModder\n",
    "import xml.etree.ElementTree as ET"
   ]
  },
  {
   "cell_type": "code",
   "execution_count": 2,
   "id": "coupled-result",
   "metadata": {},
   "outputs": [],
   "source": [
    "horizon = 200"
   ]
  },
  {
   "cell_type": "code",
   "execution_count": 3,
   "id": "better-evening",
   "metadata": {},
   "outputs": [],
   "source": [
    "def plan(start_pose, middle_pose, end_pose, horizon):\n",
    "    cs = interpolate.CubicSpline([0, 2 * horizon // 3, 5*horizon // 6, horizon], [start_pose, middle_pose, end_pose, end_pose], \n",
    "                                       axis=0, bc_type='clamped')\n",
    "    return cs(range(horizon))  \n",
    "def difference(traj):\n",
    "    traj = np.array(traj)\n",
    "    new_traj = [traj[0]]\n",
    "    for i in range(len(traj)):\n",
    "        if i == 0:\n",
    "            continue\n",
    "        new_traj.append(traj[i] - traj[i - 1])\n",
    "    return new_traj"
   ]
  },
  {
   "cell_type": "code",
   "execution_count": 4,
   "id": "headed-beijing",
   "metadata": {},
   "outputs": [],
   "source": [
    "suite.environments.base.register_env(Empty)"
   ]
  },
  {
   "cell_type": "code",
   "execution_count": 5,
   "id": "automatic-kernel",
   "metadata": {},
   "outputs": [],
   "source": [
    "controller_config = suite.load_controller_config(default_controller=\"JOINT_POSITION\")"
   ]
  },
  {
   "cell_type": "code",
   "execution_count": 6,
   "id": "solid-street",
   "metadata": {},
   "outputs": [
    {
     "name": "stdout",
     "output_type": "stream",
     "text": [
      "Creating window glfw\n"
     ]
    }
   ],
   "source": [
    "env = suite.make(\n",
    "    \"Empty\",\n",
    "    robots=\"IIWA\",             # load a Sawyer robot and a Panda robot\n",
    "    gripper_types=\"ClothGripper\",                # use default grippers per robot arm\n",
    "    controller_configs=controller_config, \n",
    "    has_renderer=True,                      # on-screen rendering\n",
    "    render_camera=\"sideview\",              # visualize the \"frontview\" camera\n",
    "    has_offscreen_renderer=False,           # no off-screen rendering\n",
    "    render_collision_mesh=True,\n",
    "    control_freq=20,                        # 20 hz control for applied actions\n",
    "    horizon=horizon,                            # each episode terminates after 200 steps\n",
    "    use_object_obs=False,                   # no observations needed\n",
    "    use_camera_obs=False,                   # no observations needed\n",
    ")"
   ]
  },
  {
   "cell_type": "code",
   "execution_count": 196,
   "id": "2d9441d8",
   "metadata": {},
   "outputs": [],
   "source": [
    "def modify_xml_return_params():\n",
    "    # TODO: make random values instead of fixed\n",
    "    springdamper_time_constant = random.expovariate(1/0.001)\n",
    "    springdamper_damping_ratio = random.uniform(0, 10)\n",
    "    frictionloss = random.uniform(0, 10)\n",
    "    tendon_stiffness = random.uniform(0, 1)\n",
    "    tendon_damping = random.uniform(0, 10)\n",
    "    tendon_frictionloss = random.uniform(0, 10)\n",
    "    \n",
    "    # TODO: convert to string\n",
    "    springdamper_str = str(springdamper_time_constant) + ' ' + str(springdamper_damping_ratio)\n",
    "    frictionloss_str = str(frictionloss)\n",
    "    tendon_stiffness_str = str(tendon_stiffness)\n",
    "    tendon_damping_str = str(tendon_damping)\n",
    "    tendon_frictionloss_str = str(tendon_frictionloss)\n",
    "    \n",
    "    tree = ET.parse('./robosuite/robosuite/models/assets/grippers/cloth.xml')\n",
    "    root = tree.getroot()\n",
    "    print('THIS IS ROOT: ', root)\n",
    "    \n",
    "    cloth_joint = root.find('default').find('default').find('joint')\n",
    "    print('THIS IS CLOTH JOINT: ', cloth_joint)\n",
    "    cloth_joint.set('springdamper', springdamper_str)\n",
    "    cloth_joint.set('frictionloss', frictionloss_str)\n",
    "    \n",
    "    tendon = root.find('tendon')\n",
    "    for t in tendon.iter('spatial'):\n",
    "        t.set('stiffness', tendon_stiffness_str)\n",
    "        t.set('damping', tendon_damping_str)\n",
    "        t.set('frictionloss', tendon_frictionloss_str)\n",
    "        \n",
    "    tree.write('./robosuite/robosuite/models/assets/grippers/cloth.xml')\n",
    "        \n",
    "    return springdamper_time_constant, springdamper_damping_ratio, frictionloss, tendon_stiffness, tendon_damping, tendon_frictionloss\n",
    "    "
   ]
  },
  {
   "cell_type": "code",
   "execution_count": 197,
   "id": "superior-abraham",
   "metadata": {
    "scrolled": true
   },
   "outputs": [
    {
     "name": "stderr",
     "output_type": "stream",
     "text": [
      "\r",
      "  0%|          | 0/1000 [00:00<?, ?it/s]"
     ]
    },
    {
     "name": "stdout",
     "output_type": "stream",
     "text": [
      "Creating window glfw\n",
      "THIS IS ROOT:  <Element 'mujoco' at 0x7fb2c3869188>\n",
      "THIS IS CLOTH JOINT:  <Element 'joint' at 0x7fb1eaa196d8>\n",
      "params:  (0.000995268959019553, 6.053794236348908, 7.464907217486117, 0.6226457310040934, 1.9178724769831945, 5.690239935471765)\n"
     ]
    },
    {
     "name": "stderr",
     "output_type": "stream",
     "text": [
      "\r",
      "  0%|          | 1/1000 [00:04<1:22:25,  4.95s/it]"
     ]
    },
    {
     "name": "stdout",
     "output_type": "stream",
     "text": [
      "Creating window glfw\n",
      "THIS IS ROOT:  <Element 'mujoco' at 0x7fb59b5645e8>\n",
      "THIS IS CLOTH JOINT:  <Element 'joint' at 0x7fb2b2342ef8>\n",
      "params:  (0.00029508214229880057, 0.4330966383134849, 9.548199811875978, 0.6096332055800224, 4.768239499268185, 9.699925771791685)\n"
     ]
    },
    {
     "name": "stderr",
     "output_type": "stream",
     "text": [
      "\r",
      "  0%|          | 2/1000 [00:09<1:18:45,  4.74s/it]"
     ]
    },
    {
     "name": "stdout",
     "output_type": "stream",
     "text": [
      "Creating window glfw\n",
      "THIS IS ROOT:  <Element 'mujoco' at 0x7faf31a62c78>\n",
      "THIS IS CLOTH JOINT:  <Element 'joint' at 0x7fb2b6ce1728>\n"
     ]
    },
    {
     "name": "stderr",
     "output_type": "stream",
     "text": [
      "\r",
      "  0%|          | 2/1000 [00:10<1:27:17,  5.25s/it]"
     ]
    },
    {
     "name": "stdout",
     "output_type": "stream",
     "text": [
      "params:  (0.00022258865610868712, 9.656051121367021, 9.884313632609071, 0.2549989969959895, 3.682160937499155, 6.504808054545021)\n"
     ]
    },
    {
     "name": "stderr",
     "output_type": "stream",
     "text": [
      "\n"
     ]
    },
    {
     "ename": "MujocoException",
     "evalue": "Got MuJoCo Warning: Nan, Inf or huge value in QACC at DOF 7. The simulation is unstable. Time = 0.0260.",
     "output_type": "error",
     "traceback": [
      "\u001b[0;31m---------------------------------------------------------------------------\u001b[0m",
      "\u001b[0;31mMujocoException\u001b[0m                           Traceback (most recent call last)",
      "\u001b[0;32m<ipython-input-197-bca7736b3bf6>\u001b[0m in \u001b[0;36m<module>\u001b[0;34m\u001b[0m\n\u001b[1;32m     40\u001b[0m \u001b[0;31m#             geom_positions.append(pos[2])\u001b[0m\u001b[0;34m\u001b[0m\u001b[0;34m\u001b[0m\u001b[0;34m\u001b[0m\u001b[0m\n\u001b[1;32m     41\u001b[0m \u001b[0;34m\u001b[0m\u001b[0m\n\u001b[0;32m---> 42\u001b[0;31m         \u001b[0mobs\u001b[0m\u001b[0;34m,\u001b[0m \u001b[0mreward\u001b[0m\u001b[0;34m,\u001b[0m \u001b[0mdone\u001b[0m\u001b[0;34m,\u001b[0m \u001b[0minfo\u001b[0m \u001b[0;34m=\u001b[0m \u001b[0menv\u001b[0m\u001b[0;34m.\u001b[0m\u001b[0mstep\u001b[0m\u001b[0;34m(\u001b[0m\u001b[0mrelative_jpos\u001b[0m\u001b[0;34m)\u001b[0m\u001b[0;34m\u001b[0m\u001b[0;34m\u001b[0m\u001b[0m\n\u001b[0m\u001b[1;32m     43\u001b[0m         \u001b[0menv\u001b[0m\u001b[0;34m.\u001b[0m\u001b[0mrender\u001b[0m\u001b[0;34m(\u001b[0m\u001b[0;34m)\u001b[0m\u001b[0;34m\u001b[0m\u001b[0;34m\u001b[0m\u001b[0m\n\u001b[1;32m     44\u001b[0m \u001b[0;31m#     with open(\"robot_poses.txt\", 'w') as f:\u001b[0m\u001b[0;34m\u001b[0m\u001b[0;34m\u001b[0m\u001b[0;34m\u001b[0m\u001b[0m\n",
      "\u001b[0;32m~/Development/eecsc106a/final-proj/106a-final/simulation/robosuite/robosuite/environments/base.py\u001b[0m in \u001b[0;36mstep\u001b[0;34m(self, action)\u001b[0m\n\u001b[1;32m    403\u001b[0m             \u001b[0mself\u001b[0m\u001b[0;34m.\u001b[0m\u001b[0msim\u001b[0m\u001b[0;34m.\u001b[0m\u001b[0mforward\u001b[0m\u001b[0;34m(\u001b[0m\u001b[0;34m)\u001b[0m\u001b[0;34m\u001b[0m\u001b[0;34m\u001b[0m\u001b[0m\n\u001b[1;32m    404\u001b[0m             \u001b[0mself\u001b[0m\u001b[0;34m.\u001b[0m\u001b[0m_pre_action\u001b[0m\u001b[0;34m(\u001b[0m\u001b[0maction\u001b[0m\u001b[0;34m,\u001b[0m \u001b[0mpolicy_step\u001b[0m\u001b[0;34m)\u001b[0m\u001b[0;34m\u001b[0m\u001b[0;34m\u001b[0m\u001b[0m\n\u001b[0;32m--> 405\u001b[0;31m             \u001b[0mself\u001b[0m\u001b[0;34m.\u001b[0m\u001b[0msim\u001b[0m\u001b[0;34m.\u001b[0m\u001b[0mstep\u001b[0m\u001b[0;34m(\u001b[0m\u001b[0;34m)\u001b[0m\u001b[0;34m\u001b[0m\u001b[0;34m\u001b[0m\u001b[0m\n\u001b[0m\u001b[1;32m    406\u001b[0m             \u001b[0mself\u001b[0m\u001b[0;34m.\u001b[0m\u001b[0m_update_observables\u001b[0m\u001b[0;34m(\u001b[0m\u001b[0;34m)\u001b[0m\u001b[0;34m\u001b[0m\u001b[0;34m\u001b[0m\u001b[0m\n\u001b[1;32m    407\u001b[0m             \u001b[0mpolicy_step\u001b[0m \u001b[0;34m=\u001b[0m \u001b[0;32mFalse\u001b[0m\u001b[0;34m\u001b[0m\u001b[0;34m\u001b[0m\u001b[0m\n",
      "\u001b[0;32m/opt/anaconda3/envs/spinningup/lib/python3.6/site-packages/mujoco_py/mjsim.pyx\u001b[0m in \u001b[0;36mmujoco_py.cymj.MjSim.step\u001b[0;34m()\u001b[0m\n",
      "\u001b[0;32m/opt/anaconda3/envs/spinningup/lib/python3.6/site-packages/mujoco_py/cymj.pyx\u001b[0m in \u001b[0;36mmujoco_py.cymj.wrap_mujoco_warning.__exit__\u001b[0;34m()\u001b[0m\n",
      "\u001b[0;32m/opt/anaconda3/envs/spinningup/lib/python3.6/site-packages/mujoco_py/cymj.pyx\u001b[0m in \u001b[0;36mmujoco_py.cymj.c_warning_callback\u001b[0;34m()\u001b[0m\n",
      "\u001b[0;32m/opt/anaconda3/envs/spinningup/lib/python3.6/site-packages/mujoco_py/builder.py\u001b[0m in \u001b[0;36muser_warning_raise_exception\u001b[0;34m(warn_bytes)\u001b[0m\n\u001b[1;32m    367\u001b[0m     \u001b[0;32mif\u001b[0m \u001b[0;34m'Unknown warning type'\u001b[0m \u001b[0;32min\u001b[0m \u001b[0mwarn\u001b[0m\u001b[0;34m:\u001b[0m\u001b[0;34m\u001b[0m\u001b[0;34m\u001b[0m\u001b[0m\n\u001b[1;32m    368\u001b[0m         \u001b[0;32mraise\u001b[0m \u001b[0mMujocoException\u001b[0m\u001b[0;34m(\u001b[0m\u001b[0mwarn\u001b[0m \u001b[0;34m+\u001b[0m \u001b[0;34m'Check for NaN in simulation.'\u001b[0m\u001b[0;34m)\u001b[0m\u001b[0;34m\u001b[0m\u001b[0;34m\u001b[0m\u001b[0m\n\u001b[0;32m--> 369\u001b[0;31m     \u001b[0;32mraise\u001b[0m \u001b[0mMujocoException\u001b[0m\u001b[0;34m(\u001b[0m\u001b[0;34m'Got MuJoCo Warning: {}'\u001b[0m\u001b[0;34m.\u001b[0m\u001b[0mformat\u001b[0m\u001b[0;34m(\u001b[0m\u001b[0mwarn\u001b[0m\u001b[0;34m)\u001b[0m\u001b[0;34m)\u001b[0m\u001b[0;34m\u001b[0m\u001b[0;34m\u001b[0m\u001b[0m\n\u001b[0m\u001b[1;32m    370\u001b[0m \u001b[0;34m\u001b[0m\u001b[0m\n\u001b[1;32m    371\u001b[0m \u001b[0;34m\u001b[0m\u001b[0m\n",
      "\u001b[0;31mMujocoException\u001b[0m: Got MuJoCo Warning: Nan, Inf or huge value in QACC at DOF 7. The simulation is unstable. Time = 0.0260."
     ]
    }
   ],
   "source": [
    "import tqdm\n",
    "import time\n",
    "\n",
    "num_dataset_size = 1000\n",
    "num_cloth_joints = 10\n",
    "\n",
    "all_geom_positions = []\n",
    "all_parameters = []\n",
    "for _ in tqdm.tqdm(range(num_dataset_size)):\n",
    "    done = False\n",
    "    obs = env.reset()\n",
    "    \n",
    "    params = modify_xml_return_params()\n",
    "    print('params: ', params)\n",
    "    all_parameters.append(params)\n",
    "    \n",
    "#     for i in range(num_cloth_joints):\n",
    "#         modder.mod(\"gripper0_joint\" + str(i), \"damping\", 3)\n",
    "#         modder.mod(\"gripper0_joint\" + str(i), \"stiffness\", 0)\n",
    "\n",
    "    \n",
    "    geom_positions = []\n",
    "#     traj = difference(plan([0, 0, 0, 0, 0, 0, 0], [0, -3, 0, 3, 0, -3, 0], [0, 0, 0, 0, 0, 0, 0], horizon))\n",
    "    \n",
    "    initial_jpos = np.array([env.sim.data.get_joint_qpos(\"robot0_joint_\" + str(joint)) for joint in range(1, 8)])\n",
    "    final_jpos = np.array([env.sim.data.get_joint_qpos(\"robot0_joint_\" + str(joint)) + (1.2 if joint == 2 else 0) for joint in range(1, 8)])\n",
    "    \n",
    "    i = 0\n",
    "    robot_poses = []\n",
    "    while not done:\n",
    "        robot_poses.append([env.sim.data.get_joint_qpos(\"robot0_joint_\" + str(joint)) for joint in range(1, 8)])\n",
    "#         action = traj[i]\n",
    "        i += 1\n",
    "        jpos = np.array([env.sim.data.get_joint_qpos(\"robot0_joint_\" + str(joint)) for joint in range(1, 8)])\n",
    "        relative_jpos = final_jpos - jpos\n",
    "        \n",
    "#         for j in range(num_cloth_joints):\n",
    "#             pos = env.sim.data.geom_xpos[env.sim.model.geom_name2id(\"gripper0_geom{}\".format(j))]\n",
    "#             geom_positions.append(pos[0])\n",
    "#             geom_positions.append(pos[2])\n",
    "            \n",
    "        obs, reward, done, info = env.step(relative_jpos) \n",
    "        env.render()\n",
    "#     with open(\"robot_poses.txt\", 'w') as f:\n",
    "#         for pose in robot_poses:\n",
    "#             print(pose)\n",
    "#             f.write(\"[{}],\\n\".format(\", \".join([str(p) for p in pose])))\n",
    "#     sys.exit()\n",
    "    all_geom_positions.append(geom_positions)\n",
    "    \n",
    "all_geom_positions = np.array(all_geom_positions)\n",
    "all_parameters = np.array(all_parameters)\n",
    "\n",
    "env.close()"
   ]
  },
  {
   "cell_type": "code",
   "execution_count": 132,
   "id": "functioning-family",
   "metadata": {},
   "outputs": [
    {
     "ename": "NameError",
     "evalue": "name 'model' is not defined",
     "output_type": "error",
     "traceback": [
      "\u001b[0;31m---------------------------------------------------------------------------\u001b[0m",
      "\u001b[0;31mNameError\u001b[0m                                 Traceback (most recent call last)",
      "\u001b[0;32m<ipython-input-132-db36a970bcec>\u001b[0m in \u001b[0;36m<module>\u001b[0;34m\u001b[0m\n\u001b[1;32m      1\u001b[0m \u001b[0mloss_fn\u001b[0m \u001b[0;34m=\u001b[0m \u001b[0mtorch\u001b[0m\u001b[0;34m.\u001b[0m\u001b[0mnn\u001b[0m\u001b[0;34m.\u001b[0m\u001b[0mGaussianNLLLoss\u001b[0m\u001b[0;34m(\u001b[0m\u001b[0;34m)\u001b[0m\u001b[0;34m\u001b[0m\u001b[0;34m\u001b[0m\u001b[0m\n\u001b[1;32m      2\u001b[0m \u001b[0;32mfor\u001b[0m \u001b[0mepoch\u001b[0m \u001b[0;32min\u001b[0m \u001b[0mrange\u001b[0m\u001b[0;34m(\u001b[0m\u001b[0;36m100\u001b[0m\u001b[0;34m)\u001b[0m\u001b[0;34m:\u001b[0m\u001b[0;34m\u001b[0m\u001b[0;34m\u001b[0m\u001b[0m\n\u001b[0;32m----> 3\u001b[0;31m     \u001b[0mmodel\u001b[0m\u001b[0;34m.\u001b[0m\u001b[0mtrain\u001b[0m\u001b[0;34m(\u001b[0m\u001b[0;34m)\u001b[0m\u001b[0;34m\u001b[0m\u001b[0;34m\u001b[0m\u001b[0m\n\u001b[0m\u001b[1;32m      4\u001b[0m     \u001b[0mtrain_losses\u001b[0m \u001b[0;34m=\u001b[0m \u001b[0;34m[\u001b[0m\u001b[0;34m]\u001b[0m\u001b[0;34m\u001b[0m\u001b[0;34m\u001b[0m\u001b[0m\n\u001b[1;32m      5\u001b[0m     \u001b[0;32mfor\u001b[0m \u001b[0mposition\u001b[0m\u001b[0;34m,\u001b[0m \u001b[0mtarget_params\u001b[0m \u001b[0;32min\u001b[0m \u001b[0mtrain_loader\u001b[0m\u001b[0;34m:\u001b[0m\u001b[0;34m\u001b[0m\u001b[0;34m\u001b[0m\u001b[0m\n",
      "\u001b[0;31mNameError\u001b[0m: name 'model' is not defined"
     ]
    }
   ],
   "source": [
    "loss_fn = torch.nn.GaussianNLLLoss()\n",
    "for epoch in range(100):\n",
    "    model.train()\n",
    "    train_losses = []\n",
    "    for position, target_params in train_loader:\n",
    "        position = position.to(\"cuda\").float()\n",
    "        target_params = target_params.to(\"cuda\").float()\n",
    "        \n",
    "        pred_params_mu, pred_params_logvar = torch.split(model(position), 2, dim=1)\n",
    "        loss = loss_fn(pred_params_mu, target_params, torch.exp(pred_params_logvar))\n",
    "        \n",
    "        train_losses.append(loss.item())\n",
    "        \n",
    "        optimizer.zero_grad()\n",
    "        loss.backward()\n",
    "        optimizer.step()\n",
    "    \n",
    "    model.eval()\n",
    "    with torch.no_grad():\n",
    "        val_losses = []\n",
    "        for position, target_params in val_loader:\n",
    "            position = position.to(\"cuda\").float()\n",
    "            target_params = target_params.to(\"cuda\").float()\n",
    "\n",
    "            pred_params_mu, pred_params_logvar = torch.split(model(position), 2, dim=1)\n",
    "            loss = loss_fn(pred_params_mu, target_params, torch.exp(pred_params_logvar))\n",
    "\n",
    "            val_losses.append(loss.item())\n",
    "        \n",
    "    print(\"Epoch: {}, Train Loss: {}, Val Loss: {}\".format(epoch, np.mean(train_losses), np.mean(val_losses)))"
   ]
  },
  {
   "cell_type": "code",
   "execution_count": null,
   "id": "noted-cleaner",
   "metadata": {},
   "outputs": [],
   "source": [
    "predictions = []\n",
    "ground_truth = []\n",
    "for i, (position, target_params) in enumerate(val_loader):\n",
    "    prediction, _ = torch.split(model(position.to(\"cuda\").float()), 2, dim=1)\n",
    "    predictions.append(prediction.detach().cpu().numpy())\n",
    "    ground_truth.append(target_params.cpu().numpy())\n",
    "predictions = np.concatenate(predictions, axis=0)\n",
    "ground_truth = np.concatenate(ground_truth, axis=0)"
   ]
  },
  {
   "cell_type": "code",
   "execution_count": null,
   "id": "strong-houston",
   "metadata": {},
   "outputs": [],
   "source": [
    "from matplotlib import pyplot as plt\n",
    "plt.scatter(ground_truth[:, 0], predictions[:, 0])\n",
    "plt.show()"
   ]
  },
  {
   "cell_type": "code",
   "execution_count": null,
   "id": "selected-rapid",
   "metadata": {},
   "outputs": [],
   "source": [
    "from matplotlib import pyplot horizonas plt\n",
    "plt.scatter(ground_truth[:, 1], predictions[:, 1])\n",
    "plt.show()"
   ]
  },
  {
   "cell_type": "code",
   "execution_count": null,
   "id": "labeled-adjustment",
   "metadata": {},
   "outputs": [],
   "source": [
    "# <spatial name=\"tendon1\" stiffness=\"100000\" damping=\"0\" >\n",
    "# \t\t\t<site site=\"anchor_left\"/> \n",
    "# \t\t\t<geom geom=\"geom0\" sidesite=\"gripper0_site0_left\"/>\n",
    "# \t\t\t<site site=\"site1_left\"/>\n",
    "# \t\t\t<geom geom=\"geom2\" sidesite=\"gripper0_site2_left\"/>\n",
    "# \t\t\t<site site=\"site3_left\"/>\n",
    "# \t\t\t<geom geom=\"geom4\" sidesite=\"gripper0_site4_left\"/>\n",
    "# \t\t\t<site site=\"site5_left\"/>\n",
    "# \t\t\t<geom geom=\"geom6\" sidesite=\"gripper0_site6_left\"/>\n",
    "# \t\t\t<site site=\"site7_left\"/>\n",
    "# \t\t\t<geom geom=\"geom8\" sidesite=\"gripper0_site8_left\"/>\n",
    "# \t\t\t<site site=\"site9_left\"/>\n",
    "# \t\t\t<geom geom=\"geom10\" sidesite=\"gripper0_site10_left\"/>\n",
    "# \t\t\t<site site=\"site11_left\"/>\n",
    "# \t\t</spatial>\n",
    "# \t\t<spatial name=\"tendon2\" stiffness=\"100000\" damping=\"0\">\n",
    "# \t\t\t<site site=\"anchor_left\"/>\n",
    "# \t\t\t<geom geom=\"geom1\" sidesite=\"gripper0_site1_left\"/>\n",
    "# \t\t\t<site site=\"site2_left\"/>\n",
    "# \t\t\t<geom geom=\"geom3\" sidesite=\"gripper0_site3_left\"/>\n",
    "# \t\t\t<site site=\"site4_left\"/>\n",
    "# \t\t\t<geom geom=\"geom5\" sidesite=\"gripper0_site5_left\"/>\n",
    "# \t\t\t<site site=\"site6_left\"/>\n",
    "# \t\t\t<geom geom=\"geom7\" sidesite=\"gripper0_site7_left\"/>\n",
    "# \t\t\t<site site=\"site8_left\"/>\n",
    "# \t\t\t<geom geom=\"geom9\" sidesite=\"gripper0_site9_left\"/>\n",
    "# \t\t\t<site site=\"site10_left\"/>\n",
    "# \t\t</spatial>\n",
    "# \t\t<spatial name=\"tendon3\" stiffness=\"100000\" damping=\"0\" >\n",
    "# \t\t\t<site site=\"anchor_right\"/> \n",
    "# \t\t\t<geom geom=\"geom0\" sidesite=\"gripper0_site0_right\"/>\n",
    "# \t\t\t<site site=\"site1_right\"/>\n",
    "# \t\t\t<geom geom=\"geom2\" sidesite=\"gripper0_site2_right\"/>\n",
    "# \t\t\t<site site=\"site3_right\"/>\n",
    "# \t\t\t<geom geom=\"geom4\" sidesite=\"gripper0_site4_right\"/>\n",
    "# \t\t\t<site site=\"site5_right\"/>\n",
    "# \t\t\t<geom geom=\"geom6\" sidesite=\"gripper0_site6_right\"/>\n",
    "# \t\t\t<site site=\"site7_right\"/>\n",
    "# \t\t\t<geom geom=\"geom8\" sidesite=\"gripper0_site8_right\"/>\n",
    "# \t\t\t<site site=\"site9_right\"/>\n",
    "# \t\t\t<geom geom=\"geom10\" sidesite=\"gripper0_site10_right\"/>\n",
    "# \t\t\t<site site=\"site11_right\"/>\n",
    "# \t\t</spatial>\n",
    "# \t\t<spatial name=\"tendon4\" stiffness=\"100000\" damping=\"0\" >\n",
    "# \t\t\t<site site=\"anchor_right\"/>\n",
    "# \t\t\t<geom geom=\"geom1\" sidesite=\"gripper0_site1_right\"/>\n",
    "# \t\t\t<site site=\"site2_right\"/>\n",
    "# \t\t\t<geom geom=\"geom3\" sidesite=\"gripper0_site3_right\"/>\n",
    "# \t\t\t<site site=\"site4_right\"/>\n",
    "# \t\t\t<geom geom=\"geom5\" sidesite=\"gripper0_site5_right\"/>\n",
    "# \t\t\t<site site=\"site6_right\"/>\n",
    "# \t\t\t<geom geom=\"geom7\" sidesite=\"gripper0_site7_right\"/>\n",
    "# \t\t\t<site site=\"site8_right\"/>\n",
    "# \t\t\t<geom geom=\"geom9\" sidesite=\"gripper0_site9_right\"/>\n",
    "# \t\t\t<site site=\"site10_right\"/>\n",
    "# \t\t</spatial>"
   ]
  },
  {
   "cell_type": "code",
   "execution_count": null,
   "id": "paperback-crown",
   "metadata": {},
   "outputs": [],
   "source": [
    "# Old large\n",
    "# 0.2 - 2.7 cm\n",
    "# 3.9 - 6.3 cm\n",
    "# 7.7 - 10.2 cm\n",
    "# 11.5 - 14 cm\n",
    "# 15.4 - 17.8 cm\n",
    "# 18.2 - 20.7 cm\n",
    "\n",
    "# New small\n",
    "# 0.3 - 2.3 cm\n",
    "# 4.5 - 6.5 cm\n",
    "# 8.5 - 10.5 cm\n",
    "# 12.6 - 14.6 cm\n",
    "# 16.7 - 18.7 cm\n",
    "# 20.7 x 27.5 cm"
   ]
  }
 ],
 "metadata": {
  "kernelspec": {
   "display_name": "Python 3",
   "language": "python",
   "name": "python3"
  },
  "language_info": {
   "codemirror_mode": {
    "name": "ipython",
    "version": 3
   },
   "file_extension": ".py",
   "mimetype": "text/x-python",
   "name": "python",
   "nbconvert_exporter": "python",
   "pygments_lexer": "ipython3",
   "version": "3.6.13"
  }
 },
 "nbformat": 4,
 "nbformat_minor": 5
}
