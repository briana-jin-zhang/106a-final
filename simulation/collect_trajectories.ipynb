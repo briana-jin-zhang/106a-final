{
 "cells": [
  {
   "cell_type": "markdown",
   "id": "6a6c5edf",
   "metadata": {},
   "source": [
    "# MuJoCo"
   ]
  },
  {
   "cell_type": "code",
   "execution_count": 68,
   "id": "47399a2c",
   "metadata": {},
   "outputs": [],
   "source": [
    "import mujoco_py\n",
    "import os\n",
    "import numpy as np"
   ]
  },
  {
   "cell_type": "markdown",
   "id": "68bbd327",
   "metadata": {},
   "source": [
    "Get MuJoCo `MjSim` from either MuJoCo or RoboSuite"
   ]
  },
  {
   "cell_type": "code",
   "execution_count": 70,
   "id": "7601b4aa",
   "metadata": {},
   "outputs": [
    {
     "data": {
      "text/plain": [
       "'models/cloth.xml'"
      ]
     },
     "execution_count": 70,
     "metadata": {},
     "output_type": "execute_result"
    }
   ],
   "source": [
    "xml_path = os.path.join('models', 'cloth.xml')\n",
    "xml_path"
   ]
  },
  {
   "cell_type": "code",
   "execution_count": 71,
   "id": "4d8672ff",
   "metadata": {},
   "outputs": [],
   "source": [
    "model = mujoco_py.load_model_from_path(xml_path)\n",
    "sim = mujoco_py.MjSim(model)"
   ]
  },
  {
   "cell_type": "markdown",
   "id": "a6c058ca",
   "metadata": {},
   "source": [
    "# Collecting Trajectories"
   ]
  },
  {
   "cell_type": "markdown",
   "id": "aa569e9b",
   "metadata": {},
   "source": [
    "TODO: Look into `MjSimPool`"
   ]
  },
  {
   "cell_type": "code",
   "execution_count": 131,
   "id": "c893db47",
   "metadata": {},
   "outputs": [],
   "source": [
    "_joint_names = ['joint_1', 'joint_2', 'joint_3', 'joint_4', 'joint_5', 'joint_6', 'joint_7']\n",
    "_cloth_keypoints = ['S0_0', 'S8_0', 'S0_8', 'S8_8']\n",
    "\n",
    "\"\"\"\n",
    "Collect state variables at the current step of the simulation.\n",
    "    Returns: A vector of joint qpos, qvel, and keypoint positions.\n",
    "\"\"\"\n",
    "def get_features(sim):\n",
    "    joint_qpos = np.array([sim.data.get_joint_qpos(joint) for joint in _joint_names])\n",
    "    joint_qvel = np.array([sim.data.get_joint_qvel(joint) for joint in _joint_names])\n",
    "    keypoint_xpos = np.array([sim.data.get_site_xpos(site) for site in _cloth_keypoints]).flatten()\n",
    "    return np.concatenate([joint_qpos, joint_qvel, keypoint_xpos])\n",
    "\n",
    "\"\"\"\n",
    "Collect a trajectory of length `n`, apply control determined by `us` at each time step.\n",
    "    sim: MuJoCo MjSim.\n",
    "    n: Scalar length of the trajectory.\n",
    "    us: (n x NJOINTS) array of inputs.\n",
    "\"\"\"\n",
    "def get_trajectory(sim, n, us):\n",
    "    sim.reset()\n",
    "    traj = []\n",
    "    for i in range(n):\n",
    "        sim.data.ctrl[:] = us[i]\n",
    "        traj.append(get_features(sim))\n",
    "        sim.step()\n",
    "    return np.array(traj)"
   ]
  },
  {
   "cell_type": "code",
   "execution_count": 132,
   "id": "b7f4795c",
   "metadata": {},
   "outputs": [],
   "source": [
    "# Collect a trajectory of length 100 with no inputs.\n",
    "n = 100\n",
    "njoints = sim.data.ctrl.shape[0]\n",
    "us = np.zeros((n, njoints))\n",
    "traj = get_trajectory(sim, n, us)"
   ]
  },
  {
   "cell_type": "markdown",
   "id": "fb51b1f9",
   "metadata": {},
   "source": [
    "# RoboSuite"
   ]
  },
  {
   "cell_type": "code",
   "execution_count": 40,
   "id": "baa4896d",
   "metadata": {},
   "outputs": [],
   "source": [
    "from robosuite.models import MujocoWorldBase\n",
    "\n",
    "world = MujocoWorldBase()\n",
    "\n",
    "from robosuite.models.robots import IIWA\n",
    "\n",
    "mujoco_robot = IIWA()\n",
    "mujoco_robot.set_base_xpos([0, 0, 0])\n",
    "world.merge(mujoco_robot)"
   ]
  },
  {
   "cell_type": "code",
   "execution_count": 41,
   "id": "db47a712",
   "metadata": {},
   "outputs": [],
   "source": [
    "model = world.get_model(mode=\"mujoco_py\")"
   ]
  },
  {
   "cell_type": "code",
   "execution_count": 133,
   "id": "93ee65ec",
   "metadata": {},
   "outputs": [],
   "source": [
    "from mujoco_py import MjSim, MjViewer\n",
    "\n",
    "sim = MjSim(model)"
   ]
  }
 ],
 "metadata": {
  "kernelspec": {
   "display_name": "Python 3",
   "language": "python",
   "name": "python3"
  },
  "language_info": {
   "codemirror_mode": {
    "name": "ipython",
    "version": 3
   },
   "file_extension": ".py",
   "mimetype": "text/x-python",
   "name": "python",
   "nbconvert_exporter": "python",
   "pygments_lexer": "ipython3",
   "version": "3.8.10"
  }
 },
 "nbformat": 4,
 "nbformat_minor": 5
}
