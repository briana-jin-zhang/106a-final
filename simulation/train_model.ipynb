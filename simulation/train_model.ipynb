{
 "cells": [
  {
   "cell_type": "code",
   "execution_count": 71,
   "id": "864326e2",
   "metadata": {},
   "outputs": [],
   "source": [
    "import torch\n",
    "import numpy as np\n",
    "from torch.utils.data import Dataset, DataLoader\n",
    "import os\n",
    "import json\n",
    "import matplotlib.pyplot as plt"
   ]
  },
  {
   "cell_type": "code",
   "execution_count": 63,
   "id": "ffb80e07",
   "metadata": {},
   "outputs": [],
   "source": [
    "device = torch.device('cuda:1')"
   ]
  },
  {
   "cell_type": "markdown",
   "id": "6dd2d56c",
   "metadata": {},
   "source": [
    "# Data"
   ]
  },
  {
   "cell_type": "code",
   "execution_count": 32,
   "id": "214b2649",
   "metadata": {},
   "outputs": [],
   "source": [
    "data_dir = 'log'\n",
    "dataset_json = 'dataset.json'\n",
    "data_len = 1000"
   ]
  },
  {
   "cell_type": "code",
   "execution_count": 57,
   "id": "b34c12ed",
   "metadata": {},
   "outputs": [],
   "source": [
    "class ClothSimDataset(Dataset):\n",
    "    \"\"\"Simulated cloth parameters dataset.\"\"\"\n",
    "\n",
    "    def __init__(self, data_dir, dataset_json, flatten=False, transform=None):\n",
    "        \"\"\"\n",
    "        Args:\n",
    "            data_dir (string): Directory with all the data.\n",
    "            data_len (int): Name of the json file with dataset information.\n",
    "            transform (callable, optional): Optional transform to be applied\n",
    "                on a sample.\n",
    "        \"\"\"\n",
    "        self.data_dir = data_dir\n",
    "        with open(os.path.join(data_dir, dataset_json)) as f:\n",
    "            self.dataset = json.load(f)['dataset_paths']\n",
    "        self.data_len = data_len\n",
    "        self.flatten = flatten\n",
    "        self.transform = transform\n",
    "\n",
    "    def __len__(self):\n",
    "        return len(self.dataset)\n",
    "\n",
    "    def __getitem__(self, idx):\n",
    "        if torch.is_tensor(idx):\n",
    "            idx = idx.tolist()\n",
    "\n",
    "        sample_dir = os.path.join(self.data_dir, str(self.dataset[idx]))\n",
    "        cloth_points = np.load(os.path.join(sample_dir, 'cloth_points_transformed.npy'))\n",
    "        parameters = np.load(os.path.join(sample_dir, 'parameters.npy'))        \n",
    "        if self.flatten:\n",
    "            cloth_points = cloth_points.flatten()\n",
    "\n",
    "        sample = (cloth_points, parameters)\n",
    "        if self.transform:\n",
    "            sample = self.transform(sample)\n",
    "        return sample"
   ]
  },
  {
   "cell_type": "code",
   "execution_count": 61,
   "id": "63aceb9e",
   "metadata": {},
   "outputs": [],
   "source": [
    "train_split = 0.8\n",
    "train_length = int(train_split * data_len)\n",
    "val_length = data_len - train_length\n",
    "all_dataset = ClothSimDataset(data_dir, dataset_json, flatten=True)\n",
    "train_dataset, val_dataset = torch.utils.data.random_split(all_dataset, [train_length, val_length])\n",
    "\n",
    "train_loader = DataLoader(train_dataset, batch_size=32, shuffle=True, pin_memory=True, num_workers=4)\n",
    "val_loader = DataLoader(val_dataset, batch_size=32, pin_memory=True, num_workers=4)"
   ]
  },
  {
   "cell_type": "code",
   "execution_count": 62,
   "id": "9c67d647",
   "metadata": {},
   "outputs": [
    {
     "name": "stdout",
     "output_type": "stream",
     "text": [
      "torch.Size([32, 2000])\n",
      "torch.Size([32, 6])\n"
     ]
    }
   ],
   "source": [
    "for pts, params in train_loader:\n",
    "    print(pts.shape)\n",
    "    print(params.shape)\n",
    "    break"
   ]
  },
  {
   "cell_type": "markdown",
   "id": "21a81395",
   "metadata": {},
   "source": [
    "# Model"
   ]
  },
  {
   "cell_type": "code",
   "execution_count": 76,
   "id": "f51f4c67",
   "metadata": {},
   "outputs": [],
   "source": [
    "model = torch.nn.Sequential(\n",
    "    torch.nn.Linear(2000, 2048),\n",
    "    torch.nn.ReLU(),\n",
    "    torch.nn.Dropout(0.1),\n",
    "    torch.nn.Linear(2048, 1024),\n",
    "    torch.nn.ReLU(),\n",
    "    torch.nn.Dropout(0.1),\n",
    "    torch.nn.Linear(1024, 1024),\n",
    "    torch.nn.ReLU(),\n",
    "    torch.nn.Linear(1024, 2 * 6),\n",
    ").to(device)\n",
    "optimizer = torch.optim.Adam(model.parameters(), lr=0.0001)"
   ]
  },
  {
   "cell_type": "markdown",
   "id": "7d497a27",
   "metadata": {},
   "source": [
    "# Training"
   ]
  },
  {
   "cell_type": "code",
   "execution_count": 77,
   "id": "f8aba059",
   "metadata": {
    "scrolled": false
   },
   "outputs": [
    {
     "name": "stdout",
     "output_type": "stream",
     "text": [
      "Epoch: 0, Train Loss: 6.78854573726654, Val Loss: 1.2717344079698836\n",
      "Epoch: 1, Train Loss: 1.3097222805023194, Val Loss: 0.9461366534233093\n",
      "Epoch: 2, Train Loss: 0.7723245048522949, Val Loss: 0.5649421215057373\n",
      "Epoch: 3, Train Loss: 0.5766519677639007, Val Loss: 0.41651818581989836\n",
      "Epoch: 4, Train Loss: 0.4748768067359924, Val Loss: 0.3726677681718554\n",
      "Epoch: 5, Train Loss: 0.46304184556007383, Val Loss: 0.4518387232507978\n",
      "Epoch: 6, Train Loss: 0.4327110457420349, Val Loss: 0.34234038421085905\n",
      "Epoch: 7, Train Loss: 0.4104012632369995, Val Loss: 0.3545347877911159\n",
      "Epoch: 8, Train Loss: 0.3900012767314911, Val Loss: 0.31330370903015137\n",
      "Epoch: 9, Train Loss: 0.37954914808273316, Val Loss: 0.3795960077217647\n",
      "Epoch: 10, Train Loss: 0.3795123207569122, Val Loss: 0.3781644744532449\n",
      "Epoch: 11, Train Loss: 0.35054789781570433, Val Loss: 0.28288582818848745\n",
      "Epoch: 12, Train Loss: 0.2972546797990799, Val Loss: 0.5055212123053414\n",
      "Epoch: 13, Train Loss: 0.816489783525467, Val Loss: 0.457627181495939\n",
      "Epoch: 14, Train Loss: 0.4271577000617981, Val Loss: 0.37367553796086994\n",
      "Epoch: 15, Train Loss: 0.3148650062084198, Val Loss: 0.25130678926195416\n",
      "Epoch: 16, Train Loss: 0.30961615025997163, Val Loss: 0.3229921758174896\n",
      "Epoch: 17, Train Loss: 0.3497196274995804, Val Loss: 0.36409653084618704\n",
      "Epoch: 18, Train Loss: 0.3574404639005661, Val Loss: 0.26026956524167744\n",
      "Epoch: 19, Train Loss: 0.30799096167087553, Val Loss: 0.23209307662078313\n",
      "Epoch: 20, Train Loss: 0.3245756947994232, Val Loss: 0.2860238403081894\n",
      "Epoch: 21, Train Loss: 1.013636619448662, Val Loss: 2.649497287614005\n",
      "Epoch: 22, Train Loss: 1.3418665385246278, Val Loss: 0.7078402553285871\n",
      "Epoch: 23, Train Loss: 0.6043688821792602, Val Loss: 0.5532301153455462\n",
      "Epoch: 24, Train Loss: 0.5298866677284241, Val Loss: 0.481825053691864\n",
      "Epoch: 25, Train Loss: 0.46524101853370664, Val Loss: 0.4120656209332602\n",
      "Epoch: 26, Train Loss: 0.40711486220359805, Val Loss: 0.3510823973587581\n",
      "Epoch: 27, Train Loss: 0.3439844024181366, Val Loss: 0.29250078967639376\n",
      "Epoch: 28, Train Loss: 0.2882195979356766, Val Loss: 0.21879091007368906\n",
      "Epoch: 29, Train Loss: 0.2607749629020691, Val Loss: 0.1971841071333204\n",
      "Epoch: 30, Train Loss: 0.27250267803668976, Val Loss: 0.18096527882984706\n",
      "Epoch: 31, Train Loss: 0.2732107782363892, Val Loss: 0.2468716140304293\n",
      "Epoch: 32, Train Loss: 0.29469134092330934, Val Loss: 0.37842092343739103\n",
      "Epoch: 33, Train Loss: 0.2963401085138321, Val Loss: 0.21259195463997976\n",
      "Epoch: 34, Train Loss: 0.46250095188617707, Val Loss: 0.6019877067634037\n",
      "Epoch: 35, Train Loss: 0.3640295106172562, Val Loss: 0.2597504939351763\n",
      "Epoch: 36, Train Loss: 0.2133758395910263, Val Loss: 0.15001684640135085\n",
      "Epoch: 37, Train Loss: 0.6519579568505287, Val Loss: 0.4187776403767722\n",
      "Epoch: 38, Train Loss: 0.32159912288188935, Val Loss: 0.2704281210899353\n",
      "Epoch: 39, Train Loss: 0.21698660016059876, Val Loss: 0.19612904957362584\n",
      "Epoch: 40, Train Loss: 0.21853482514619826, Val Loss: 0.1993013173341751\n",
      "Epoch: 41, Train Loss: 0.3105917775630951, Val Loss: 0.38374542764254976\n",
      "Epoch: 42, Train Loss: 0.2748460084199905, Val Loss: 0.15988880821636745\n",
      "Epoch: 43, Train Loss: 0.9567474412918091, Val Loss: 1.5615468195506506\n",
      "Epoch: 44, Train Loss: 0.7105129563808441, Val Loss: 0.43999092493738445\n",
      "Epoch: 45, Train Loss: 0.4116726791858673, Val Loss: 0.36405029041426523\n",
      "Epoch: 46, Train Loss: 0.3287518525123596, Val Loss: 0.28696432283946444\n",
      "Epoch: 47, Train Loss: 0.24562287509441375, Val Loss: 0.1920880526304245\n",
      "Epoch: 48, Train Loss: 0.20512626558542252, Val Loss: 0.26391230523586273\n",
      "Epoch: 49, Train Loss: 0.2078660887479782, Val Loss: 0.11173062452248164\n",
      "Epoch: 50, Train Loss: 1.4815027523040771, Val Loss: 0.9956907885415214\n",
      "Epoch: 51, Train Loss: 0.6157378852367401, Val Loss: 0.4905736361231123\n",
      "Epoch: 52, Train Loss: 0.4546504294872284, Val Loss: 0.4064894701753344\n",
      "Epoch: 53, Train Loss: 0.38372701287269595, Val Loss: 0.3416669624192374\n",
      "Epoch: 54, Train Loss: 0.3212471425533295, Val Loss: 0.28192131434168133\n",
      "Epoch: 55, Train Loss: 0.25136049449443815, Val Loss: 0.2001328021287918\n",
      "Epoch: 56, Train Loss: 0.21540712416172028, Val Loss: 0.3554155230522156\n",
      "Epoch: 57, Train Loss: 0.24791283667087555, Val Loss: 0.17005004840237753\n",
      "Epoch: 58, Train Loss: 0.4928010207414627, Val Loss: 0.9911123939922878\n",
      "Epoch: 59, Train Loss: 1.0431773471832275, Val Loss: 0.4554096247468676\n",
      "Epoch: 60, Train Loss: 0.44459406852722166, Val Loss: 0.3945410592215402\n",
      "Epoch: 61, Train Loss: 0.3705328893661499, Val Loss: 0.33026115383420673\n",
      "Epoch: 62, Train Loss: 0.3056520462036133, Val Loss: 0.26185278594493866\n",
      "Epoch: 63, Train Loss: 0.23577274084091188, Val Loss: 0.19156052810805185\n",
      "Epoch: 64, Train Loss: 0.18769119828939437, Val Loss: 0.18432864121028356\n",
      "Epoch: 65, Train Loss: 0.2485157972574234, Val Loss: 0.3544669236455645\n",
      "Epoch: 66, Train Loss: 0.36047856450080873, Val Loss: 0.22182604670524597\n",
      "Epoch: 67, Train Loss: 0.17910509169101715, Val Loss: 0.11738794084106173\n",
      "Epoch: 68, Train Loss: 0.24869610458612443, Val Loss: 0.2984672486782074\n",
      "Epoch: 69, Train Loss: 0.32648594975471495, Val Loss: 0.18975818370069777\n",
      "Epoch: 70, Train Loss: 0.19457902759313583, Val Loss: 1.0511977672576904\n",
      "Epoch: 71, Train Loss: 0.34826228737831116, Val Loss: 0.21428237855434418\n",
      "Epoch: 72, Train Loss: 0.17418642103672027, Val Loss: 0.12140481173992157\n",
      "Epoch: 73, Train Loss: 0.3703151273727417, Val Loss: 0.7244549478803363\n",
      "Epoch: 74, Train Loss: 0.5231545996665955, Val Loss: 0.2857379232134138\n",
      "Epoch: 75, Train Loss: 0.23968033254146576, Val Loss: 0.1874826273747853\n",
      "Epoch: 76, Train Loss: 0.14566128343343734, Val Loss: 0.1426790388567107\n",
      "Epoch: 77, Train Loss: 0.3520018482208252, Val Loss: 0.2218539352927889\n",
      "Epoch: 78, Train Loss: 0.15978169292211533, Val Loss: 0.2192788507257189\n",
      "Epoch: 79, Train Loss: 0.13046503320336342, Val Loss: 0.07751941574471337\n",
      "Epoch: 80, Train Loss: 2.215699571967125, Val Loss: 1.672825472695487\n",
      "Epoch: 81, Train Loss: 0.7515965104103088, Val Loss: 0.563255250453949\n",
      "Epoch: 82, Train Loss: 0.4929439640045166, Val Loss: 0.42227010641779217\n",
      "Epoch: 83, Train Loss: 0.3821824133396149, Val Loss: 0.3110014966556004\n",
      "Epoch: 84, Train Loss: 0.2740578281879425, Val Loss: 0.20052384691579\n",
      "Epoch: 85, Train Loss: 0.21672886610031128, Val Loss: 0.2087676567690713\n",
      "Epoch: 86, Train Loss: 0.2076764953136444, Val Loss: 0.12008051999977656\n",
      "Epoch: 87, Train Loss: 0.19425165712833403, Val Loss: 0.205966694014413\n",
      "Epoch: 88, Train Loss: 0.16828542694449425, Val Loss: 0.07752068660088948\n",
      "Epoch: 89, Train Loss: 0.5599191924929618, Val Loss: 0.43844360538891386\n",
      "Epoch: 90, Train Loss: 0.2947852611541748, Val Loss: 0.21376376705510275\n",
      "Epoch: 91, Train Loss: 0.17782708257436752, Val Loss: 0.12244484786476408\n",
      "Epoch: 92, Train Loss: 0.12188500434160232, Val Loss: 0.06391139328479767\n",
      "Epoch: 93, Train Loss: 0.1619546266272664, Val Loss: 0.15601513854094914\n",
      "Epoch: 94, Train Loss: 0.35928304478526113, Val Loss: 2.6550804546901157\n",
      "Epoch: 95, Train Loss: 1.4460445284843444, Val Loss: 0.6120116540363857\n",
      "Epoch: 96, Train Loss: 0.4859833180904388, Val Loss: 0.42208600895745413\n",
      "Epoch: 97, Train Loss: 0.3807167398929596, Val Loss: 0.32165161626679556\n",
      "Epoch: 98, Train Loss: 0.2800914812088013, Val Loss: 0.21397757743086135\n",
      "Epoch: 99, Train Loss: 0.1865847884118557, Val Loss: 0.12417202442884445\n"
     ]
    }
   ],
   "source": [
    "loss_fn = torch.nn.GaussianNLLLoss()\n",
    "epoch_train_losses = []\n",
    "epoch_val_losses = []\n",
    "for epoch in range(100):\n",
    "    model.train()\n",
    "    train_losses = []\n",
    "    for position, target_params in train_loader:\n",
    "        position = position.to(device).float()\n",
    "        target_params = target_params.to(device).float()\n",
    "        \n",
    "        pred_params_mu, pred_params_logvar = torch.split(model(position), 6, dim=1)\n",
    "        loss = loss_fn(pred_params_mu, target_params, torch.exp(pred_params_logvar))\n",
    "        \n",
    "        train_losses.append(loss.item())\n",
    "        \n",
    "        optimizer.zero_grad()\n",
    "        loss.backward()\n",
    "        optimizer.step()\n",
    "    \n",
    "    model.eval()\n",
    "    with torch.no_grad():\n",
    "        val_losses = []\n",
    "        for position, target_params in val_loader:\n",
    "            position = position.to(device).float()\n",
    "            target_params = target_params.to(device).float()\n",
    "\n",
    "            pred_params_mu, pred_params_logvar = torch.split(model(position), 6, dim=1)\n",
    "            loss = loss_fn(pred_params_mu, target_params, torch.exp(pred_params_logvar))\n",
    "\n",
    "            val_losses.append(loss.item())\n",
    "\n",
    "    print(\"Epoch: {}, Train Loss: {}, Val Loss: {}\".format(epoch, np.mean(train_losses), np.mean(val_losses)))\n",
    "    epoch_train_losses.append(np.mean(train_losses))\n",
    "    epoch_val_losses.append(np.mean(val_losses))"
   ]
  },
  {
   "cell_type": "code",
   "execution_count": 78,
   "id": "d20512db",
   "metadata": {},
   "outputs": [
    {
     "data": {
      "image/png": "[encoded data removed]",
      "text/plain": [
       "<Figure size 432x288 with 1 Axes>"
      ]
     },
     "metadata": {
      "needs_background": "light"
     },
     "output_type": "display_data"
    }
   ],
   "source": [
    "plt.plot(epoch_train_losses)\n",
    "plt.plot(epoch_val_losses)\n",
    "plt.legend([\"Train\", \"Val\"])\n",
    "plt.title(\"Training Loss\")\n",
    "plt.show()"
   ]
  },
  {
   "cell_type": "code",
   "execution_count": null,
   "id": "1530eb11",
   "metadata": {},
   "outputs": [],
   "source": []
  }
 ],
 "metadata": {
  "kernelspec": {
   "display_name": "Python 3",
   "language": "python",
   "name": "python3"
  },
  "language_info": {
   "codemirror_mode": {
    "name": "ipython",
    "version": 3
   },
   "file_extension": ".py",
   "mimetype": "text/x-python",
   "name": "python",
   "nbconvert_exporter": "python",
   "pygments_lexer": "ipython3",
   "version": "3.8.5"
  }
 },
 "nbformat": 4,
 "nbformat_minor": 5
}
